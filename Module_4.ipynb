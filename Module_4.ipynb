{
  "nbformat": 4,
  "nbformat_minor": 0,
  "metadata": {
    "colab": {
      "provenance": []
    },
    "kernelspec": {
      "name": "python3",
      "display_name": "Python 3"
    },
    "language_info": {
      "name": "python"
    }
  },
  "cells": [
    {
      "cell_type": "markdown",
      "source": [
        "\n",
        "\n",
        "> 1. Build a simple webpage.\n",
        "\n"
      ],
      "metadata": {
        "id": "J5jvBjuP7v4j"
      }
    },
    {
      "cell_type": "code",
      "source": [
        "\n",
        "<!DOCTYPE html>\n",
        "<html lang=\"en\">\n",
        "<head>\n",
        "    <meta charset=\"UTF-8\">\n",
        "    <meta name=\"viewport\" content=\"width=device-width, initial-scale=1.0\">\n",
        "    <title>css introduction</title>\n",
        "</head>\n",
        "<body>\n",
        "    <b> This text will be bold</b>\n",
        "    <br>\n",
        "    <em> This text will be Italic</em>\n",
        "    <br>\n",
        "    <u> This text will be underlined</u><br>\n",
        "    <span style=\"background-color:yellow;\">This text will be Highlighted</span>\n",
        "    <br>\n",
        "    This is normal text <sup>this will be superscripted</sup> This is normal text again\n",
        "     <br>\n",
        "    This is norml text <sub> This is subscripted</sub>\n",
        "    <br>\n",
        "   This is normal text <span style=\"font-size: small;\"> Small text</span>\n",
        "   <br>\n",
        "   <span style=\"text-decoration: line-through;\">This text will be deleted</span>\n",
        "\n",
        "</body>\n",
        "</html>"
      ],
      "metadata": {
        "id": "xa8XsWcxv_vK"
      },
      "execution_count": null,
      "outputs": []
    },
    {
      "cell_type": "markdown",
      "source": [
        "2. Build a simple webpage that helps users navigate different web development related websites.Note: On clicking the hyperlink the web page should open in a new tab."
      ],
      "metadata": {
        "id": "dOa_TDlT8TmG"
      }
    },
    {
      "cell_type": "code",
      "source": [
        "<!DOCTYPE html>\n",
        "<html lang=\"en\">\n",
        "<head>\n",
        "    <meta charset=\"UTF-8\">\n",
        "    <meta name=\"viewport\" content=\"width=device-width, initial-scale=1.0\">\n",
        "    <title>Document</title>\n",
        "</head>\n",
        "<body>\n",
        "\n",
        "    <a href=\"https://pwskills.com/\"target=\"_blank\">Take me to PW Skills to buy a course.</a></br>\n",
        "    <a href=\"https://developer.mozilla.org/en-US/\"target=\"_blank\">Take me to MDN docs to know more about web development.</a><br>\n",
        "    <a href=\"https://lab.pwskills.com/\"target=\"_blank\">Take me to PW Skill lab to practice live coding</a><br>\n",
        "\n",
        "</body>\n",
        "</html>\n",
        "\n"
      ],
      "metadata": {
        "id": "lS_EmkBO8zxm"
      },
      "execution_count": null,
      "outputs": []
    },
    {
      "cell_type": "markdown",
      "source": [
        "3.simple Blog page with three pages:"
      ],
      "metadata": {
        "id": "cZrAenhwX9En"
      }
    },
    {
      "cell_type": "code",
      "source": [
        "<!DOCTYPE html>\n",
        "<html lang=\"en\">\n",
        "<head>\n",
        "    <meta charset=\"UTF-8\">\n",
        "    <meta name=\"viewport\" content=\"width=device-width, initial-scale=1.0\">\n",
        "    <title>My Blog-Home</title>\n",
        "</head>\n",
        "<body>\n",
        "    <nav>\n",
        "        <a href=\"index.html\">Home</a><br>\n",
        "        <a href=\"web_development.html\">Web development</a><br>\n",
        "        <a href=\"web_design.html\">Web design</a><br>\n",
        "    </nav>\n",
        "    <h1>Welcome to my blog</h1>\n",
        "    <p>Hi my name is Sarita Vashisht</p>\n",
        "</body>\n",
        "</html>\n",
        "web development:\n",
        "<!DOCTYPE html>\n",
        "<html lang=\"en\">\n",
        "<head>\n",
        "    <meta charset=\"UTF-8\">\n",
        "    <meta name=\"viewport\" content=\"width=device-width, initial-scale=1.0\">\n",
        "    <title>My Blog-Webdevelopment</title>\n",
        "</head>\n",
        "<body>\n",
        "<nav>\n",
        "    <a href=\"index.html\">Home</a><br>\n",
        "    <a href=\"web_development.html\">Web Development</a><br>\n",
        "    <a href=\"web_design.html\">Web Design</a><br>\n",
        "</nav>\n",
        "<h1>Web Development</h1>\n",
        "<p>Web development involves building and maintaing websites</p>\n",
        "</body>\n",
        "</html>\n",
        "web design:\n",
        "<!DOCTYPE html>\n",
        "<html lang=\"en\">\n",
        "<head>\n",
        "    <meta charset=\"UTF-8\">\n",
        "    <meta name=\"viewport\" content=\"width=device-width, initial-scale=1.0\">\n",
        "    <title>Web_design</title>\n",
        "</head>\n",
        "<body>\n",
        "    <nav>\n",
        "        <a href=\"index.html\">Home</a><br>\n",
        "        <a href=\"web_development.html\">Web Development</a><br>\n",
        "        <a href=\"web_design.html\">Web Design</a><br>\n",
        "    </nav>\n",
        "    <h1>Web Design</h1>\n",
        "    <p>Web Design focuses on the visual aspects of a website,including layout, colors to create a user friendly experience.</p>\n",
        "</body>\n",
        "</html>"
      ],
      "metadata": {
        "id": "4Ut_XFJhYIiI"
      },
      "execution_count": null,
      "outputs": []
    },
    {
      "cell_type": "markdown",
      "source": [
        "4. ordered list of html tags."
      ],
      "metadata": {
        "id": "wzElcncIrsnL"
      }
    },
    {
      "cell_type": "code",
      "source": [
        "<!DOCTYPE html>\n",
        "<html lang=\"en\">\n",
        "<head>\n",
        "    <meta charset=\"UTF-8\">\n",
        "    <meta name=\"viewport\" content=\"width=device-width, initial-scale=1.0\">\n",
        "    <title>HTML Tag list</title>\n",
        "</head>\n",
        "<body>\n",
        "    <h1>Common HTML Tags</h1>\n",
        "    <ol>\n",
        "        <li><strong>&lt;html&gt;</strong> - The root element of an HTML document.</li>\n",
        "        <li><strong>&lt;head&gt;</strong> - Contains metadata and links to scripts and styles.</li>\n",
        "        <li><strong>&lt;title&gt;</strong> - Sets the title of the web page displayed in the browser tab.</li>\n",
        "        <li><strong>&lt;body&gt;</strong> - Contains the content of the web page.</li>\n",
        "        <li><strong>&lt;h1&gt; to &lt;h6&gt;</strong> - Define headings, with &lt;h1&gt; being the most important.</li>\n",
        "        <li><strong>&lt;p&gt;</strong> - Represents a paragraph of text.</li>\n",
        "        <li><strong>&lt;a&gt;</strong> - Defines a hyperlink to another page or resource.</li>\n",
        "        <li><strong>&lt;img&gt;</strong> - Embeds an image in the page.</li>\n",
        "        <li><strong>&lt;ul&gt; and &lt;ol&gt;</strong> - Define unordered and ordered lists, respectively.</li>\n",
        "        <li><strong>&lt;li&gt;</strong> - Represents an item within a list.</li>\n",
        "        <li><strong>&lt;table&gt;</strong> - Creates a table for displaying tabular data.</li>\n",
        "        <li><strong>&lt;tr&gt;</strong> - Defines a row in a table.</li>\n",
        "        <li><strong>&lt;td&gt;</strong> - Represents a cell within a table row.</li>\n",
        "        </ol>\n",
        "</body>\n",
        "</html>"
      ],
      "metadata": {
        "id": "3eGHJFN7yB2I"
      },
      "execution_count": null,
      "outputs": []
    },
    {
      "cell_type": "markdown",
      "source": [
        "create a description list of full stack web development tech stack using the <dl> tag. each term should be a tech stack name and each description should be a brief explanation of what the tech stack is used for."
      ],
      "metadata": {
        "id": "XDwc1SSYnGNC"
      }
    },
    {
      "cell_type": "code",
      "source": [
        "<!DOCTYPE html>\n",
        "<html lang=\"en\">\n",
        "<head>\n",
        "    <meta charset=\"UTF-8\">\n",
        "    <meta name=\"viewport\" content=\"width=device-width, initial-scale=1.0\">\n",
        "    <title>Document</title>\n",
        "</head>\n",
        "<body>\n",
        "    <h1>Full-Stack Web Development Tech Stack</h1>\n",
        "\n",
        "    <dl>\n",
        "        <dt>HTML</dt>\n",
        "        <dd>The backbone of web pages, used to structure content on the web.</dd>\n",
        "\n",
        "        <dt>CSS</dt>\n",
        "        <dd>Styles and layouts web pages, making them visually appealing and responsive.</dd>\n",
        "\n",
        "        <dt>JavaScript</dt>\n",
        "        <dd>A scripting language that adds interactivity, animations, and dynamic content to web pages.</dd>\n",
        "\n",
        "        <dt>React</dt>\n",
        "        <dd>A JavaScript library for building fast, interactive user interfaces, mainly for SPAs.</dd>\n",
        "\n",
        "        <dt>Angular</dt>\n",
        "        <dd>A TypeScript-based framework developed by Google for building scalable web applications.</dd>\n",
        "\n",
        "        <dt>Node.js</dt>\n",
        "        <dd>A runtime environment that enables JavaScript to run on the server side.</dd>\n",
        "\n",
        "        <dt>Next.js</dt>\n",
        "        <dd>A React framework that provides server-side rendering (SSR) and static site generation (SSG).</dd>\n",
        "\n",
        "        <dt>MongoDB</dt>\n",
        "        <dd>A NoSQL database that stores data in a flexible JSON-like format, ideal for scalable applications.</dd>\n",
        "\n",
        "        <dt>MySQL</dt>\n",
        "        <dd>A relational database management system (RDBMS) used for structured data storage.</dd>\n",
        "\n",
        "        <dt>Git</dt>\n",
        "        <dd>A version control system that tracks code changes and enables collaboration among developers.</dd>\n",
        "\n",
        "        <dt>GitHub</dt>\n",
        "        <dd>A cloud-based repository hosting service for Git, enabling version control and collaboration.</dd>\n",
        "\n",
        "\n",
        "    </dl>\n",
        "\n",
        "</body>\n",
        "</html>"
      ],
      "metadata": {
        "id": "dxq_4osanOQh"
      },
      "execution_count": null,
      "outputs": []
    },
    {
      "cell_type": "markdown",
      "source": [],
      "metadata": {
        "id": "FcjDpuM8nYGx"
      }
    },
    {
      "cell_type": "markdown",
      "source": [
        "6.create an ordered list of the full stack web development tech stack HTML, CSS and JS. for each tech stack, create a table that lists the tech stack name. its primary use cases ans some key feature or benefits ."
      ],
      "metadata": {
        "id": "iR2Ix5MWo17-"
      }
    },
    {
      "cell_type": "code",
      "source": [
        "<!DOCTYPE html>\n",
        "<html lang=\"en\">\n",
        "<head>\n",
        "    <meta charset=\"UTF-8\">\n",
        "    <meta name=\"viewport\" content=\"width=device-width, initial-scale=1.0\">\n",
        "    <title>Full-Stack Web Development Tech Stack</title>\n",
        "    <style>\n",
        "        table {\n",
        "            width: 100%;\n",
        "            border-collapse: collapse;\n",
        "            margin-bottom: 20px;\n",
        "        }\n",
        "        th, td {\n",
        "            border: 1px solid #000;\n",
        "            padding: 10px;\n",
        "            text-align: left;\n",
        "        }\n",
        "        th {\n",
        "            background-color: #f4f4f4;\n",
        "        }\n",
        "    </style>\n",
        "</head>\n",
        "<body>\n",
        "\n",
        "    <h1>Full-Stack Web Development Tech Stack</h1>\n",
        "\n",
        "    <ol>\n",
        "        <li>\n",
        "            <h2>HTML</h2>\n",
        "            <table>\n",
        "                <tr>\n",
        "                    <th>Tech Stack Name</th>\n",
        "                    <th>Primary Use Cases</th>\n",
        "                    <th>Key Features/Benefits</th>\n",
        "                </tr>\n",
        "                <tr>\n",
        "                    <td>HTML (HyperText Markup Language)</td>\n",
        "                    <td>Structuring and defining web page content.</td>\n",
        "                    <td>\n",
        "                        - Provides the basic structure of a webpage.<br>\n",
        "                        - Supports multimedia elements like images, audio, and video.<br>\n",
        "                        - Works with CSS and JavaScript to create interactive websites.\n",
        "                    </td>\n",
        "                </tr>\n",
        "            </table>\n",
        "        </li>\n",
        "\n",
        "        <li>\n",
        "            <h2>CSS</h2>\n",
        "            <table>\n",
        "                <tr>\n",
        "                    <th>Tech Stack Name</th>\n",
        "                    <th>Primary Use Cases</th>\n",
        "                    <th>Key Features/Benefits</th>\n",
        "                </tr>\n",
        "                <tr>\n",
        "                    <td>CSS (Cascading Style Sheets)</td>\n",
        "                    <td>Styling and designing web pages.</td>\n",
        "                    <td>\n",
        "                        - Controls layout, colors, fonts, and animations.<br>\n",
        "                        - Supports responsive design for mobile-friendly websites.<br>\n",
        "                        - Allows reusability with external stylesheets.\n",
        "                    </td>\n",
        "                </tr>\n",
        "            </table>\n",
        "        </li>\n",
        "\n",
        "        <li>\n",
        "            <h2>JavaScript</h2>\n",
        "            <table>\n",
        "                <tr>\n",
        "                    <th>Tech Stack Name</th>\n",
        "                    <th>Primary Use Cases</th>\n",
        "                    <th>Key Features/Benefits</th>\n",
        "                </tr>\n",
        "                <tr>\n",
        "                    <td>JavaScript</td>\n",
        "                    <td>Adding interactivity and dynamic content to web pages.</td>\n",
        "                    <td>\n",
        "                        - Enables interactive elements like buttons, forms, and animations.<br>\n",
        "                        - Works in both frontend (browser) and backend (Node.js).<br>\n",
        "                        - Supports modern frameworks like React, Vue, and Angular.\n",
        "                    </td>\n",
        "                </tr>\n",
        "            </table>\n",
        "        </li>\n",
        "    </ol>\n",
        "\n",
        "</body>\n",
        "</html>\n"
      ],
      "metadata": {
        "id": "yHQykHpko4vl"
      },
      "execution_count": null,
      "outputs": []
    },
    {
      "cell_type": "markdown",
      "source": [
        "7.Build a complex nested list structure representing a multi-level table of contents. use unordered list and list items with inline block styling to create a structured layout. apply formatting tags to enhance the presentation of list items.  "
      ],
      "metadata": {
        "id": "YJnZZsGhpQJk"
      }
    },
    {
      "cell_type": "code",
      "source": [
        "<!DOCTYPE html>\n",
        "<html lang=\"en\">\n",
        "<head>\n",
        "    <meta charset=\"UTF-8\">\n",
        "    <meta name=\"viewport\" content=\"width=device-width, initial-scale=1.0\">\n",
        "    <title>Table of Contents</title>\n",
        "    <style>\n",
        "        body {\n",
        "            font-family: Arial, sans-serif;\n",
        "            margin: 20px;\n",
        "        }\n",
        "        ul {\n",
        "            list-style-type: disc;\n",
        "            padding-left: 20px;\n",
        "        }\n",
        "        li {\n",
        "            display: block;\n",
        "            margin-bottom: 8px;\n",
        "        }\n",
        "        .section{\n",
        "            list-style-type: disc; /* Bullet points */\n",
        "            padding-left: 20px;\n",
        "        }\n",
        "        .section {\n",
        "            font-size: 1.2em;\n",
        "            font-weight: bold;\n",
        "            color: #333;\n",
        "        }\n",
        "        .sub-section {\n",
        "            font-size: 1.1em;\n",
        "            font-weight: bold;\n",
        "            color: #555;\n",
        "        }\n",
        "        .topic {\n",
        "            font-size: 1em;\n",
        "            font-weight: normal;\n",
        "            color: #777;\n",
        "        }\n",
        "    </style>\n",
        "</head>\n",
        "<body>\n",
        "\n",
        "    <h1>Table of Contents</h1>\n",
        "\n",
        "    <ul>\n",
        "        <li class=\"section\"><strong>Part 1: Introduction</strong> </li>\n",
        "\n",
        "        <li class=\"section\"><strong>Part 2: Getting Started</strong>\n",
        "            <ul>\n",
        "                <li class=\"sub-section\"><strong>2.1 Installing the Software</strong> </li>\n",
        "\n",
        "                <li class=\"sub-section\"><strong>2.2 Creating a New Project</strong>\n",
        "                    <ul>\n",
        "                        <li class=\"topic\"><em>2.2.1 Project Template</li>\n",
        "                        <li class=\"topic\"><em>2.2.2 Customizing setting</li>\n",
        "                            </ul>\n",
        "                        </li>\n",
        "                <li class=\"sub-section\"><strong>2.3 Exploring the interface</strong>\n",
        "                    <ul>\n",
        "                            <li class=\"topic\"><em>2.3.1 Docking panels</li>\n",
        "                            <li class=\"topic\"><em>2.3.2 Tabbed Interface</li>\n",
        "                        </ul>\n",
        "                    </li>\n",
        "                </ul>\n",
        "             </li>\n",
        "    </ul>\n",
        "\n",
        "        <li class=\"section\"><strong>Part 3: Advanced Topics</strong>\n",
        "            <ul>\n",
        "                <li class=\"sub-section\"><strong>3.1 Working with plugins</strong>\n",
        "                    <ul>\n",
        "                        <li class=\"topic\"><em>3.1.1 Installing Plugins</li>\n",
        "                        <li class=\"topic\"><em>3.1.2 Plugins Configuration</li>\n",
        "                    </ul>\n",
        "                </li>\n",
        "                <li class=\"sub-section\"><strong>3.2 Customizing the UI</strong>\n",
        "                    <ul>\n",
        "                        <li class=\"topic\"><em>3.2.1 Changing Themes</li>\n",
        "                        <li class=\"topic\"><em>3.2.2 Configuration shortcut</li>\n",
        "\n",
        "                    </ul>\n",
        "                </li>\n",
        "                <li class=\"sub-section\"><strong>3.3 Optimizing Performance Customizing the UI</strong>\n",
        "                    <ul>\n",
        "                        <li class=\"topic\"><em>3.3.1 Caching Strategies</li>\n",
        "                        <li class=\"topic\"><em>3.3.2 Resource Minification</li>\n",
        "\n",
        "                    </ul>\n",
        "                </li>\n",
        "            </ul>\n",
        "        </li>\n",
        "\n",
        "        <li class=\"section\"><strong>Part 4: Conclusion</strong>\n",
        "            </li>\n",
        "            </body>\n",
        "            </html>"
      ],
      "metadata": {
        "id": "Zo8-WvrcGH6Y"
      },
      "execution_count": null,
      "outputs": []
    },
    {
      "cell_type": "markdown",
      "source": [
        "8.create a table to display a conference schedule. each row corresponds to a time slot, and each column corresponds to a room. some time slots might have multiples sessions running simultaneously in different rooms. utilize rowspan and colspan attribute as necessary to accommodate this complex schedule. use table attribute \"cellpadding\" to give extra padding in each cell"
      ],
      "metadata": {
        "id": "5jslhvUdGJcP"
      }
    },
    {
      "cell_type": "code",
      "source": [],
      "metadata": {
        "id": "kCxL2k8lHrDR"
      },
      "execution_count": null,
      "outputs": []
    }
  ]
}